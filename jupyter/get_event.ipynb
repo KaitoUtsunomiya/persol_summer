{
 "cells": [
  {
   "cell_type": "code",
   "execution_count": 31,
   "id": "5a9bd7c2-549a-456b-83d5-9ed480be4c98",
   "metadata": {},
   "outputs": [],
   "source": [
    "import datetime\n",
    "import requests\n",
    "from bs4 import BeautifulSoup\n",
    "import re\n",
    "import time\n",
    "from tqdm import tqdm\n",
    "import pandas as pd\n",
    "from geopy.distance import geodesic"
   ]
  },
  {
   "cell_type": "code",
   "execution_count": 32,
   "id": "0a5caea0-3758-434d-be8e-dca8516b09a2",
   "metadata": {},
   "outputs": [],
   "source": [
    "def get_event(original_location,day):\n",
    "    # 住所の中から郵便番号を抽出する\n",
    "    location = re.findall('\\d{3}-\\d{4}', original_location)\n",
    "    #郵便番号から県情報を取得\n",
    "    k = zipinfo(location[0])\n",
    "    # 日付情報の取得\n",
    "    dt_now = datetime.datetime.now()\n",
    "    dt_now = dt_now.strftime('%Y/%m/%d')\n",
    "    d = dt_now.replace('/', '')\n",
    "    d  =day.replace('-','')\n",
    "    # url\n",
    "    event_url = 'https://www.livebu.com/search?p=1&co=event&c=1001&k=' + k +'&d=' + str(d)\n",
    "    #rint(event_url)\n",
    "    headers_dic = {\"User-Agent\": \"Mozilla/5.0 (Windows NT 10.0; Win64; x64) AppleWebKit/537.36 (KHTML, like Gecko) Chrome/78.0.3904.97 Safari/537.36\"}\n",
    "    r = requests.get(event_url, headers=headers_dic)\n",
    "    soup = BeautifulSoup(r.text, 'html.parser')\n",
    "    #print(soup)\n",
    "    elems = soup.find(class_=\"column_right\").find_all(href=re.compile(\"/hall/\"))\n",
    "    hall_id = []\n",
    "    for i in range(len(elems)):\n",
    "        m = re.findall(r'/hall/(.*)\"', str(elems[i]))\n",
    "        hall_id.append(m[0])\n",
    "    event = []\n",
    "    for each in elems[0:]:\n",
    "        event.append(each.get_text().strip('\\n'))\n",
    "    #rint(event)\n",
    "    #rint(hall_id)\n",
    "    list3 = [[] for i in range(len(event))]\n",
    "    for i in range(len(event)):\n",
    "        list3[i].append(event[i])\n",
    "        list3[i].append(hall_id[i])\n",
    "    return list3, event_url"
   ]
  },
  {
   "cell_type": "code",
   "execution_count": 33,
   "id": "b73b84af-0c08-4385-bb89-8f4f6ce1c07a",
   "metadata": {},
   "outputs": [],
   "source": [
    "def zipinfo(zipcode):\n",
    "    url = \"https://zip-cloud.appspot.com/api/search?zipcode=\" + str(zipcode)\n",
    "    x = requests.get(url)\n",
    "    x = x.json()\n",
    "    x = x['results']\n",
    "    y = pd.DataFrame(x)\n",
    "    return y['address1'][0]"
   ]
  },
  {
   "cell_type": "code",
   "execution_count": 72,
   "id": "05fa1ef3-bc5e-4f24-abc7-2198b0966ee1",
   "metadata": {},
   "outputs": [],
   "source": [
    "def get_hall_location(hall_l):\n",
    "    location = []\n",
    "    capacity = []\n",
    "    headers_dic = {\"User-Agent\": \"Mozilla/5.0 (Windows NT 10.0; Win64; x64) AppleWebKit/537.36 (KHTML, like Gecko) Chrome/78.0.3904.97 Safari/537.36\"}\n",
    "    for i in range(len(hall_l)):\n",
    "        \n",
    "        hall_url = 'https://www.livebu.com/hall/' + str(hall_l[i][1])\n",
    "        r = requests.get(hall_url, headers=headers_dic)\n",
    "        soup = BeautifulSoup(r.text, 'html.parser')\n",
    "        #print(soup)\n",
    "        elems = soup.find(class_=\"hall_address_box\").find('div')\n",
    "        #print(elems)\n",
    "        cap = soup.find(class_=\"dtl_cap_main_num\")\n",
    "        location.append(elems.get_text())\n",
    "        capacity.append(cap.get_text())\n",
    "    return location, capacity"
   ]
  },
  {
   "cell_type": "code",
   "execution_count": 68,
   "id": "43f18d41-5a45-4925-9069-affe5cce22c1",
   "metadata": {},
   "outputs": [],
   "source": [
    "def get_lat_lon_from_address(address_l):\n",
    "    \"\"\"\n",
    "    address_lにlistの形で住所を入れてあげると、latlonsという入れ子上のリストで緯度経度のリストを返す関数。\n",
    "    >>>>get_lat_lon_from_address(['東京都文京区本郷7-3-1','東京都文京区湯島３丁目３０−１'])\n",
    "    [['35.712056', '139.762775'], ['35.707771', '139.768205']]\n",
    "    \"\"\"\n",
    "    url = 'http://www.geocoding.jp/api/'\n",
    "    latlons = []\n",
    "    for address in tqdm(address_l):\n",
    "        payload = {\"v\": 1.1, 'q': address}\n",
    "        r = requests.get(url, params=payload)\n",
    "        ret = BeautifulSoup(r.content,'lxml')\n",
    "        if ret.find('error'):\n",
    "            raise ValueError(f\"Invalid address submitted. {address}\")\n",
    "        else:\n",
    "            lat = ret.find('lat').string\n",
    "            lon = ret.find('lng').string\n",
    "            latlons.append([lat,lon])\n",
    "            time.sleep(1)\n",
    "    return latlons"
   ]
  },
  {
   "cell_type": "code",
   "execution_count": 75,
   "id": "a8eae5b7-641f-49de-8813-6c53efff08e9",
   "metadata": {},
   "outputs": [],
   "source": [
    "def get_near_event(event_hall_info,location):\n",
    "    \n",
    "    # (緯度, 経度)\n",
    "    event_hall = []\n",
    "    location = get_lat_lon_from_address(location)\n",
    "    location = (float(location[0][0]),float(location[0][1]))\n",
    "    for i in range(len(event_hall_info)):\n",
    "        event = (float(event_hall_info[i][4]),float(event_hall_info[i][5]))\n",
    "        dis = geodesic(location,event).km\n",
    "        if(dis <= 2):\n",
    "            event_hall.append(event_hall_info[i])\n",
    "    return event_hall"
   ]
  },
  {
   "cell_type": "code",
   "execution_count": 89,
   "id": "31406063-7e98-46aa-b90d-705e8ea28812",
   "metadata": {},
   "outputs": [],
   "source": [
    "def main(location,day):\n",
    "    event_hall, event_url = get_event(location[0],day)\n",
    "    event_hall_location, event_hall_capacity = get_hall_location(event_hall)\n",
    "    for i in range(len(event_hall)):\n",
    "        event_hall[i].append(event_hall_location[i])\n",
    "        event_hall[i].append(event_hall_capacity[i])\n",
    "    print(event_hall)\n",
    "    hall_place = get_lat_lon_from_address(event_hall_location)\n",
    "    event_hall_place = list(map(list.__add__, event_hall, hall_place))\n",
    "    #print(event_hall_place)\n",
    "    event_info = get_near_event(event_hall_place, [location[1]])\n",
    "    event = day + 'のイベント情報\\n'\n",
    "    if (len(event_info)!=0):\n",
    "        for i in range(len(event_info)):\n",
    "            event_str = '会場 :' + event_info[i][0] +', 住所 :' + event_info[i][2] + ', 収容人数 :' + event_info[i][3]\n",
    "            event = event + event_str\n",
    "    elif(len(event_info) == 0 ):\n",
    "        event = event + '近くの会場で行われるイベントはありません。'\n",
    "    event = event + '\\n詳細:' + event_url\n",
    "    #return get_near_event(event_hall_place, [location[1]]), event_url\n",
    "    return event"
   ]
  },
  {
   "cell_type": "code",
   "execution_count": 91,
   "id": "da3e23ff-a7f5-49e8-b423-b70db2dbd3e9",
   "metadata": {},
   "outputs": [
    {
     "name": "stdout",
     "output_type": "stream",
     "text": [
      "[['福岡サンパレスホテル&ホール・コンサートホール', '407', '福岡県福岡市博多区築港本町2-1', '2,322']]\n"
     ]
    },
    {
     "name": "stderr",
     "output_type": "stream",
     "text": [
      "  0%|          | 0/1 [00:00<?, ?it/s]/Users/utsunomiyaisaoto/opt/anaconda3/lib/python3.9/site-packages/bs4/builder/__init__.py:545: XMLParsedAsHTMLWarning: It looks like you're parsing an XML document using an HTML parser. If this really is an HTML document (maybe it's XHTML?), you can ignore or filter this warning. If it's XML, you should know that using an XML parser will be more reliable. To parse this document as XML, make sure you have the lxml package installed, and pass the keyword argument `features=\"xml\"` into the BeautifulSoup constructor.\n",
      "  warnings.warn(\n",
      "100%|██████████| 1/1 [00:01<00:00,  1.90s/it]\n",
      "100%|██████████| 1/1 [00:02<00:00,  2.34s/it]\n"
     ]
    },
    {
     "data": {
      "text/plain": [
       "'2022-09-13のイベント情報\\n近くの会場で行われるイベントはありません。\\n詳細:https://www.livebu.com/search?p=1&co=event&c=1001&k=福岡県&d=20220913'"
      ]
     },
     "execution_count": 91,
     "metadata": {},
     "output_type": "execute_result"
    }
   ],
   "source": [
    "location = ['819-0383', '福岡県福岡市西区田尻1-13-4']\n",
    "day = '2022-09-13'\n",
    "main(location, day)"
   ]
  },
  {
   "cell_type": "code",
   "execution_count": null,
   "id": "377a5d84-2b1e-4625-9d2e-784790bc8f1c",
   "metadata": {},
   "outputs": [],
   "source": []
  }
 ],
 "metadata": {
  "kernelspec": {
   "display_name": "Python 3 (ipykernel)",
   "language": "python",
   "name": "python3"
  },
  "language_info": {
   "codemirror_mode": {
    "name": "ipython",
    "version": 3
   },
   "file_extension": ".py",
   "mimetype": "text/x-python",
   "name": "python",
   "nbconvert_exporter": "python",
   "pygments_lexer": "ipython3",
   "version": "3.9.12"
  }
 },
 "nbformat": 4,
 "nbformat_minor": 5
}
