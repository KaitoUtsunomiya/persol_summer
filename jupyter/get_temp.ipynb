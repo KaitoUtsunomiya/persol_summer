{
 "cells": [
  {
   "cell_type": "code",
   "execution_count": 126,
   "id": "4962a5af-a71a-4dba-bbce-28ecfdeabd08",
   "metadata": {},
   "outputs": [],
   "source": [
    "import datetime\n",
    "import requests\n",
    "from bs4 import BeautifulSoup\n",
    "import re\n",
    "\n",
    "# 位置情報からその日の天気を返す\n",
    "def get_weather_from_location(original_location):\n",
    "    original_location = ''.join(original_location)\n",
    "    # 住所の中から郵便番号を抽出する\n",
    "    location = re.findall('\\d{3}-\\d{4}', original_location)\n",
    "    # 1回目のスクレイピングでは住所を検索し、候補から取ってくる\n",
    "    url = \"https://weather.yahoo.co.jp/weather/search/?p=\" + location[0]\n",
    "    r = requests.get(url)\n",
    "    soup = BeautifulSoup(r.text, 'html.parser')\n",
    "    content = soup.find(class_=\"serch-table\")\n",
    "    # 2回目のスクレイピングで用いるURLを得る\n",
    "    location_url = content.find('a').get('href')\n",
    "    print(location_url)\n",
    "    r = requests.get(location_url)\n",
    "    soup = BeautifulSoup(r.text, 'html.parser')\n",
    "    \n",
    "    content = soup.find(id='yjw_pinpoint_today').find_all('td')\n",
    "    # print(content)\n",
    "    warn = soup.find(id='wrnrpt').find_all('dd')\n",
    "    # print(warn)\n",
    "    info = []\n",
    "    warn_info = []\n",
    "    \n",
    "    for each in content[1:]:\n",
    "        info.append(each.get_text().strip('\\n'))\n",
    "    if(len(warn) != 0):\n",
    "        for each in warn[0]:\n",
    "            warn_info.append(each.get_text().strip('\\n'))\n",
    "    elif(len(warn) == 0):\n",
    "        warn_info.append('None')\n",
    "    warn_info  = '\\n'.join(warn_info)\n",
    "    # print(warn_info)\n",
    "    # 時間\n",
    "    time = info[:8]\n",
    "    # 天気\n",
    "    weather = info[9:17]\n",
    "    # 気温\n",
    "    temperature = info[18:26]\n",
    "    # 湿度\n",
    "    humidity = info[27:35]\n",
    "    # 降水量\n",
    "    precipitation = info[36:44]\n",
    "    # 上の3つの情報を合わせる\n",
    "    weather_info = [(time[i], weather[i], temperature[i],humidity[i],precipitation[i], warn_info) for i in range(8)]\n",
    "    # print(weather_info)\n",
    "\n",
    "    # result = [('{0[0]}: {0[1]}, {0[2]}°C'.format(weather_info[i])) for i in range(8)]\n",
    "    result = [('{0[0]}: {0[1]}, {0[2]}°C, {0[3]}%, {0[4]}ml, {0[5]}'.format(weather_info[i])) for i in range(8)]\n",
    "    result = ('{}の今日の天気は\\n'.format(original_location) + '\\n'.join(result) + 'です。\\n')\n",
    "    dt_now = datetime.datetime.now()\n",
    "    result = result + '現在時刻は{}です。'.format(dt_now)\n",
    "\n",
    "    return result"
   ]
  },
  {
   "cell_type": "code",
   "execution_count": 140,
   "id": "a5d55082-c817-4781-8f2b-fbe6f0ab6ef7",
   "metadata": {},
   "outputs": [],
   "source": [
    "def get_weather(original_location,day):\n",
    "    original_location = ''.join(original_location)\n",
    "    # 住所の中から郵便番号を抽出する\n",
    "    location = re.findall('\\d{3}-\\d{4}', original_location)\n",
    "    # 1回目のスクレイピングでは住所を検索し、候補から取ってくる\n",
    "    url = \"https://weather.yahoo.co.jp/weather/search/?p=\" + location[0]\n",
    "    r = requests.get(url)\n",
    "    soup = BeautifulSoup(r.text, 'html.parser')\n",
    "    content = soup.find(class_=\"serch-table\")\n",
    "    # 2回目のスクレイピングで用いるURLを得る\n",
    "    location_url = content.find('a').get('href')\n",
    "    print(location_url)\n",
    "    if (day == '1日'):\n",
    "        result = get_tommorow_weather(location_url)\n",
    "        result = ('{}の明日の天気は\\n'.format(original_location) + '\\n'.join(result) + 'です。')\n",
    "        dt_now = datetime.datetime.now()\n",
    "    elif (day == '1週間'):\n",
    "        result1=get_tommorow_weather(location_url)\n",
    "        result1= ('{}の明日の天気は\\n'.format(original_location) + '\\n'.join(result1)+ 'です。\\n')\n",
    "        result2= get_weekly_weather(location_url)\n",
    "        result2= ('{}の1週間の天気は\\n'.format(original_location) + '\\n'.join(result2)+ 'です。')\n",
    "        result = result1 + result2\n",
    "        dt_now = datetime.datetime.now()\n",
    "    elif(day == '今日'):\n",
    "        result = get_today_weather(location_url)\n",
    "        result = ('{}の今日の天気は\\n'.format(original_location) + '\\n'.join(result) + 'です。\\n')\n",
    "        dt_now = datetime.datetime.now()\n",
    "        result = result + '現在時刻は{}です。'.format(dt_now)\n",
    "    return result"
   ]
  },
  {
   "cell_type": "code",
   "execution_count": 141,
   "id": "ed5beea9-acfa-48a3-a4dc-4cd31912136f",
   "metadata": {},
   "outputs": [],
   "source": [
    "def get_today_weather(location_url):\n",
    "    r = requests.get(location_url)\n",
    "    soup = BeautifulSoup(r.text, 'html.parser')\n",
    "    \n",
    "    content = soup.find(id='yjw_pinpoint_today').find_all('td')\n",
    "    # print(content)\n",
    "    warn = soup.find(id='wrnrpt').find_all('dd')\n",
    "    # print(warn)\n",
    "    info = []\n",
    "    warn_info = []\n",
    "    \n",
    "    for each in content[1:]:\n",
    "        info.append(each.get_text().strip('\\n'))\n",
    "    if(len(warn) != 0):\n",
    "        for each in warn[0]:\n",
    "            warn_info.append(each.get_text().strip('\\n'))\n",
    "    elif(len(warn) == 0):\n",
    "        warn_info.append('None')\n",
    "    warn_info  = '\\n'.join(warn_info)\n",
    "    # print(warn_info)\n",
    "    # 時間\n",
    "    time = info[:8]\n",
    "    # 天気\n",
    "    weather = info[9:17]\n",
    "    # 気温\n",
    "    temperature = info[18:26]\n",
    "    # 湿度\n",
    "    humidity = info[27:35]\n",
    "    # 降水量\n",
    "    precipitation = info[36:44]\n",
    "    # 上の3つの情報を合わせる\n",
    "    weather_info = [(time[i], weather[i], temperature[i],humidity[i],precipitation[i], warn_info) for i in range(8)]\n",
    "    # print(weather_info)\n",
    "\n",
    "    # result = [('{0[0]}: {0[1]}, {0[2]}°C'.format(weather_info[i])) for i in range(8)]\n",
    "    result = [('{0[0]}: {0[1]}, {0[2]}°C, {0[3]}%, {0[4]}ml, {0[5]}'.format(weather_info[i])) for i in range(8)]\n",
    "    return result"
   ]
  },
  {
   "cell_type": "code",
   "execution_count": 142,
   "id": "d34310cb-f879-479a-9891-63fc321ff6bc",
   "metadata": {},
   "outputs": [],
   "source": [
    "def get_tommorow_weather(location_url):\n",
    "    r = requests.get(location_url)\n",
    "    soup = BeautifulSoup(r.text, 'html.parser')\n",
    "    \n",
    "    content = soup.find(id='yjw_pinpoint_tomorrow').find_all('td')\n",
    "    # print(content)\n",
    "    info = []\n",
    "    warn_info = []\n",
    "    \n",
    "    for each in content[1:]:\n",
    "        info.append(each.get_text().strip('\\n'))\n",
    "    warn_info.append('None')\n",
    "    warn_info  = '\\n'.join(warn_info)\n",
    "    # print(warn_info)\n",
    "    # 時間\n",
    "    time = info[:8]\n",
    "    # 天気\n",
    "    weather = info[9:17]\n",
    "    # 気温\n",
    "    temperature = info[18:26]\n",
    "    # 湿度\n",
    "    humidity = info[27:35]\n",
    "    # 降水量\n",
    "    precipitation = info[36:44]\n",
    "    # 上の3つの情報を合わせる\n",
    "    weather_info = [(time[i], weather[i], temperature[i],humidity[i],precipitation[i], warn_info) for i in range(8)]\n",
    "    # print(weather_info)\n",
    "\n",
    "    # result = [('{0[0]}: {0[1]}, {0[2]}°C'.format(weather_info[i])) for i in range(8)]\n",
    "    result = [('{0[0]}: {0[1]}, {0[2]}°C, {0[3]}%, {0[4]}ml, {0[5]}'.format(weather_info[i])) for i in range(8)]\n",
    "    return result"
   ]
  },
  {
   "cell_type": "code",
   "execution_count": 143,
   "id": "8dd12974-47c4-41de-a9a6-9d32cd7b9b2c",
   "metadata": {},
   "outputs": [],
   "source": [
    "def get_weekly_weather(location_url):\n",
    "    r = requests.get(location_url)\n",
    "    soup = BeautifulSoup(r.text, 'html.parser')\n",
    "    \n",
    "    content = soup.find(id='yjw_week').find_all('small')\n",
    "    info = []\n",
    "    for each in content[0:]:\n",
    "        info.append(each.get_text().strip('\\n'))\n",
    "    weather_info = []\n",
    "    for i in range(6):\n",
    "        weather = info[i+1].replace('\\n','').replace(' ','') + ': ' + info[i+8].strip() + ', ' + info[i+15].replace('\\n','°C, ') + '°C, ' +info[i+22].strip() + '%'\n",
    "        weather_info.append(weather)\n",
    "    return weather_info"
   ]
  },
  {
   "cell_type": "code",
   "execution_count": 131,
   "id": "38d93ba4-0d40-417c-be8a-81456ece6dd1",
   "metadata": {},
   "outputs": [
    {
     "name": "stdout",
     "output_type": "stream",
     "text": [
      "https://weather.yahoo.co.jp/weather/40/8210/40135.html\n",
      "819-0383福岡県福岡市西区田尻１丁目１３−４の今日の天気は\n",
      "0時: 曇り, 28°C, 78%, 0ml, 雷、強風、波浪\n",
      "3時: 曇り, 28°C, 75%, 0ml, 雷、強風、波浪\n",
      "6時: 曇り, 27°C, 75%, 0ml, 雷、強風、波浪\n",
      "9時: 晴れ, 29°C, 69%, 0ml, 雷、強風、波浪\n",
      "12時: 晴れ, 31°C, 66%, 0ml, 雷、強風、波浪\n",
      "15時: 雨, 32°C, 61%, 1ml, 雷、強風、波浪\n",
      "18時: 雨, 28°C, 83%, 0ml, 雷、強風、波浪\n",
      "21時: 晴れ, 27°C, 82%, 0ml, 雷、強風、波浪です。\n",
      "現在時刻は2022-09-13 19:19:22.751665です。\n"
     ]
    }
   ],
   "source": [
    "print(get_weather_from_location(['819-0383', '福岡県福岡市西区田尻１丁目１３−４']))"
   ]
  },
  {
   "cell_type": "code",
   "execution_count": 144,
   "id": "3b63c9d6-945f-49f4-9f04-4c717fa41bba",
   "metadata": {},
   "outputs": [
    {
     "name": "stdout",
     "output_type": "stream",
     "text": [
      "https://weather.yahoo.co.jp/weather/40/8210/40135.html\n",
      "819-0383福岡県福岡市西区田尻１丁目１３−４の明日の天気は\n",
      "0時: 晴れ, 27°C, 80%, 0ml, None\n",
      "3時: 晴れ, 26°C, 79%, 0ml, None\n",
      "6時: 晴れ, 26°C, 80%, 0ml, None\n",
      "9時: 晴れ, 30°C, 69%, 0ml, None\n",
      "12時: 晴れ, 33°C, 59%, 0ml, None\n",
      "15時: 晴れ, 33°C, 58%, 0ml, None\n",
      "18時: 晴れ, 30°C, 66%, 0ml, None\n",
      "21時: 晴れ, 28°C, 73%, 0ml, Noneです。\n",
      "819-0383福岡県福岡市西区田尻１丁目１３−４の1週間の天気は\n",
      "9月16日(金): 晴れ, 34°C, 25°C, 10%\n",
      "9月17日(土): 曇時々晴, 31°C, 25°C, 40%\n",
      "9月18日(日): 曇一時雨, 32°C, 25°C, 60%\n",
      "9月19日(月): 曇時々雨, 30°C, 24°C, 80%\n",
      "9月20日(火): 曇一時雨, 28°C, 21°C, 60%\n",
      "9月21日(水): 曇時々晴, 27°C, 20°C, 30%です。\n"
     ]
    }
   ],
   "source": [
    "print(get_weather(['819-0383', '福岡県福岡市西区田尻１丁目１３−４'],'1週間'))"
   ]
  },
  {
   "cell_type": "code",
   "execution_count": 150,
   "id": "62263a5f-a8e5-453d-a1dc-bd9a54767084",
   "metadata": {},
   "outputs": [
    {
     "name": "stdout",
     "output_type": "stream",
     "text": [
      "2022-09-14\n"
     ]
    }
   ],
   "source": [
    "dt_now = datetime.datetime.now()\n",
    "print(str(dt_now).split(' ')[0])"
   ]
  },
  {
   "cell_type": "code",
   "execution_count": null,
   "id": "938f0e1d-2d99-495e-bb5f-9a1e5dc834af",
   "metadata": {},
   "outputs": [],
   "source": []
  }
 ],
 "metadata": {
  "kernelspec": {
   "display_name": "Python 3 (ipykernel)",
   "language": "python",
   "name": "python3"
  },
  "language_info": {
   "codemirror_mode": {
    "name": "ipython",
    "version": 3
   },
   "file_extension": ".py",
   "mimetype": "text/x-python",
   "name": "python",
   "nbconvert_exporter": "python",
   "pygments_lexer": "ipython3",
   "version": "3.9.12"
  }
 },
 "nbformat": 4,
 "nbformat_minor": 5
}
