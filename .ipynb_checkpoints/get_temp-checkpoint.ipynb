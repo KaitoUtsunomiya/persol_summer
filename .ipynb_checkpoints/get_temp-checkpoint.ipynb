{
 "cells": [
  {
   "cell_type": "code",
   "execution_count": 1,
   "id": "4962a5af-a71a-4dba-bbce-28ecfdeabd08",
   "metadata": {},
   "outputs": [],
   "source": [
    "import datetime\n",
    "import requests\n",
    "from bs4 import BeautifulSoup\n",
    "import re\n",
    "\n",
    "# 位置情報からその日の天気を返す\n",
    "def get_weather_from_location(original_location):\n",
    "    original_location = ''.join(original_location)\n",
    "    # 住所の中から郵便番号を抽出する\n",
    "    location = re.findall('\\d{3}-\\d{4}', original_location)\n",
    "    # 1回目のスクレイピングでは住所を検索し、候補から取ってくる\n",
    "    url = \"https://weather.yahoo.co.jp/weather/search/?p=\" + location[0]\n",
    "    r = requests.get(url)\n",
    "    soup = BeautifulSoup(r.text, 'html.parser')\n",
    "    content = soup.find(class_=\"serch-table\")\n",
    "    # 2回目のスクレイピングで用いるURLを得る\n",
    "    location_url = content.find('a').get('href')\n",
    "    # print(location_url)\n",
    "    r = requests.get(location_url)\n",
    "    soup = BeautifulSoup(r.text, 'html.parser')\n",
    "    content = soup.find(id='yjw_pinpoint_today').find_all('td')\n",
    "    # print(content)\n",
    "    warn = soup.find(id='wrnrpt').find_all('dd')\n",
    "    # print(warn)\n",
    "    info = []\n",
    "    warn_info = []\n",
    "    \n",
    "    for each in content[1:]:\n",
    "        info.append(each.get_text().strip('\\n'))\n",
    "    for each in warn[0]:\n",
    "        warn_info.append(each.get_text().strip('\\n'))\n",
    "    warn_info  = '\\n'.join(warn_info)\n",
    "    # print(warn_info)\n",
    "    # 時間\n",
    "    time = info[:8]\n",
    "    # 天気\n",
    "    weather = info[9:17]\n",
    "    # 気温\n",
    "    temperature = info[18:26]\n",
    "    # 湿度\n",
    "    humidity = info[27:35]\n",
    "    # 降水量\n",
    "    precipitation = info[36:44]\n",
    "    # 上の3つの情報を合わせる\n",
    "    weather_info = [(time[i], weather[i], temperature[i],humidity[i],precipitation[i], warn_info) for i in range(8)]\n",
    "    # print(weather_info)\n",
    "\n",
    "    # result = [('{0[0]}: {0[1]}, {0[2]}°C'.format(weather_info[i])) for i in range(8)]\n",
    "    result = [('{0[0]}: {0[1]}, {0[2]}°C, {0[3]}%, {0[4]}ml, {0[5]}'.format(weather_info[i])) for i in range(8)]\n",
    "    result = ('{}の今日の天気は\\n'.format(original_location) + '\\n'.join(result) + 'です。\\n')\n",
    "    dt_now = datetime.datetime.now()\n",
    "    result = result + '現在時刻は{}です。'.format(dt_now)\n",
    "\n",
    "    return result"
   ]
  },
  {
   "cell_type": "code",
   "execution_count": 2,
   "id": "38d93ba4-0d40-417c-be8a-81456ece6dd1",
   "metadata": {},
   "outputs": [
    {
     "name": "stdout",
     "output_type": "stream",
     "text": [
      "819-0383福岡県福岡市西区田尻１丁目１３−４の今日の天気は\n",
      "0時: 晴れ, 24°C, 84%, 0ml, 強風、波浪\n",
      "3時: 晴れ, 23°C, 90%, 0ml, 強風、波浪\n",
      "6時: 晴れ, 23°C, 92%, 0ml, 強風、波浪\n",
      "9時: 晴れ, 27°C, 73%, 0ml, 強風、波浪\n",
      "12時: 晴れ, 30°C, 67%, 0ml, 強風、波浪\n",
      "15時: 晴れ, 30°C, 67%, 0ml, 強風、波浪\n",
      "18時: 晴れ, 28°C, 76%, 0ml, 強風、波浪\n",
      "21時: 晴れ, 26°C, 81%, 0ml, 強風、波浪です。\n",
      "現在時刻は2022-09-10 00:58:26.127721です。\n"
     ]
    }
   ],
   "source": [
    "print(get_weather_from_location(['819-0383', '福岡県福岡市西区田尻１丁目１３−４']))"
   ]
  },
  {
   "cell_type": "code",
   "execution_count": null,
   "id": "3b63c9d6-945f-49f4-9f04-4c717fa41bba",
   "metadata": {},
   "outputs": [],
   "source": []
  }
 ],
 "metadata": {
  "kernelspec": {
   "display_name": "Python 3 (ipykernel)",
   "language": "python",
   "name": "python3"
  },
  "language_info": {
   "codemirror_mode": {
    "name": "ipython",
    "version": 3
   },
   "file_extension": ".py",
   "mimetype": "text/x-python",
   "name": "python",
   "nbconvert_exporter": "python",
   "pygments_lexer": "ipython3",
   "version": "3.9.12"
  }
 },
 "nbformat": 4,
 "nbformat_minor": 5
}
